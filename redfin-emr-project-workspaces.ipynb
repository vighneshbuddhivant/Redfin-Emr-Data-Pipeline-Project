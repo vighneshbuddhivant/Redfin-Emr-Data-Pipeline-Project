{
 "cells": [
  {
   "cell_type": "code",
   "execution_count": 1,
   "id": "1574ac8a-135c-4963-b862-8a0b91428c0f",
   "metadata": {
    "execution": {
     "iopub.execute_input": "2024-09-30T07:28:26.873943Z",
     "iopub.status.busy": "2024-09-30T07:28:26.873607Z",
     "iopub.status.idle": "2024-09-30T07:29:08.531619Z",
     "shell.execute_reply": "2024-09-30T07:29:08.530984Z",
     "shell.execute_reply.started": "2024-09-30T07:28:26.873904Z"
    }
   },
   "outputs": [
    {
     "data": {
      "application/vnd.jupyter.widget-view+json": {
       "model_id": "77afb53740c74651ab940beaf4d4aa45",
       "version_major": 2,
       "version_minor": 0
      },
      "text/plain": [
       "VBox()"
      ]
     },
     "metadata": {},
     "output_type": "display_data"
    },
    {
     "name": "stdout",
     "output_type": "stream",
     "text": [
      "Starting Spark application\n"
     ]
    },
    {
     "data": {
      "text/html": [
       "<table>\n",
       "<tbody><tr><th>ID</th><th>YARN Application ID</th><th>Kind</th><th>State</th><th>Spark UI</th><th>Driver log</th><th>User</th><th>Current session?</th></tr><tr><td>0</td><td>application_1727679324412_0001</td><td>pyspark</td><td>idle</td><td><a target=\"_blank\" href=\"http://ip-10-0-6-8.ap-south-1.compute.internal:20888/proxy/application_1727679324412_0001/\" class=\"emr-proxy-link j-2OET0CTNWA63S application_1727679324412_0001\" emr-resource=\"j-2OET0CTNWA63S\n",
       "\" application-id=\"application_1727679324412_0001\">Link</a></td><td><a target=\"_blank\" href=\"http://ip-10-0-11-170.ap-south-1.compute.internal:8042/node/containerlogs/container_1727679324412_0001_01_000001/livy\">Link</a></td><td>None</td><td>✔</td></tr></tbody></table>"
      ],
      "text/plain": [
       "<IPython.core.display.HTML object>"
      ]
     },
     "metadata": {},
     "output_type": "display_data"
    },
    {
     "data": {
      "application/vnd.jupyter.widget-view+json": {
       "model_id": "",
       "version_major": 2,
       "version_minor": 0
      },
      "text/plain": [
       "FloatProgress(value=0.0, bar_style='info', description='Progress:', layout=Layout(height='25px', width='50%'),…"
      ]
     },
     "metadata": {},
     "output_type": "display_data"
    },
    {
     "name": "stdout",
     "output_type": "stream",
     "text": [
      "SparkSession available as 'spark'.\n"
     ]
    },
    {
     "data": {
      "application/vnd.jupyter.widget-view+json": {
       "model_id": "",
       "version_major": 2,
       "version_minor": 0
      },
      "text/plain": [
       "FloatProgress(value=0.0, bar_style='info', description='Progress:', layout=Layout(height='25px', width='50%'),…"
      ]
     },
     "metadata": {},
     "output_type": "display_data"
    }
   ],
   "source": [
    "from pyspark.sql import SparkSession\n",
    "from pyspark.sql.functions import col"
   ]
  },
  {
   "cell_type": "code",
   "execution_count": null,
   "id": "12d7e93d-fd1f-4b4f-bcac-77c161311c9f",
   "metadata": {},
   "outputs": [],
   "source": [
    "%%bash\n",
    "wget -O - https://redfin-public-data.s3.us-west-2.amazonaws.com/redfin_market_tracker/city_market_tracker.tsv000.gz | aws s3 cp - .tsv000.gz"
   ]
  },
  {
   "cell_type": "code",
   "execution_count": 3,
   "id": "cefd7778-00db-4db2-8589-df0648596a21",
   "metadata": {
    "execution": {
     "iopub.execute_input": "2024-09-30T07:59:28.930382Z",
     "iopub.status.busy": "2024-09-30T07:59:28.930151Z",
     "iopub.status.idle": "2024-09-30T07:59:28.985981Z",
     "shell.execute_reply": "2024-09-30T07:59:28.985201Z",
     "shell.execute_reply.started": "2024-09-30T07:59:28.930355Z"
    }
   },
   "outputs": [
    {
     "data": {
      "application/vnd.jupyter.widget-view+json": {
       "model_id": "63cdab1e84a3498aac9299c5f7c182ab",
       "version_major": 2,
       "version_minor": 0
      },
      "text/plain": [
       "VBox()"
      ]
     },
     "metadata": {},
     "output_type": "display_data"
    },
    {
     "data": {
      "application/vnd.jupyter.widget-view+json": {
       "model_id": "",
       "version_major": 2,
       "version_minor": 0
      },
      "text/plain": [
       "FloatProgress(value=0.0, bar_style='info', description='Progress:', layout=Layout(height='25px', width='50%'),…"
      ]
     },
     "metadata": {},
     "output_type": "display_data"
    }
   ],
   "source": [
    "spark = SparkSession.builder.appName(\"RedfinDataAnalysis\").getOrCreate()"
   ]
  },
  {
   "cell_type": "code",
   "execution_count": 5,
   "id": "c25507ed-f248-4b68-beea-1e13858ab042",
   "metadata": {
    "execution": {
     "iopub.execute_input": "2024-09-30T08:00:57.594909Z",
     "iopub.status.busy": "2024-09-30T08:00:57.594677Z",
     "iopub.status.idle": "2024-09-30T08:02:51.323975Z",
     "shell.execute_reply": "2024-09-30T08:02:51.323390Z",
     "shell.execute_reply.started": "2024-09-30T08:00:57.594884Z"
    },
    "tags": []
   },
   "outputs": [
    {
     "data": {
      "application/vnd.jupyter.widget-view+json": {
       "model_id": "1135044d16c34e00b7b1745ddfb057f3",
       "version_major": 2,
       "version_minor": 0
      },
      "text/plain": [
       "VBox()"
      ]
     },
     "metadata": {},
     "output_type": "display_data"
    },
    {
     "data": {
      "application/vnd.jupyter.widget-view+json": {
       "model_id": "",
       "version_major": 2,
       "version_minor": 0
      },
      "text/plain": [
       "FloatProgress(value=0.0, bar_style='info', description='Progress:', layout=Layout(height='25px', width='50%'),…"
      ]
     },
     "metadata": {},
     "output_type": "display_data"
    }
   ],
   "source": [
    "redfin_data = spark.read.csv(\"s3://redfin-project-staging-bucket/city_market_tracker.tsv000.gz\", header=True, inferSchema=True, sep= \"\\t\")"
   ]
  },
  {
   "cell_type": "code",
   "execution_count": 6,
   "id": "dfe0d967-002b-44a3-b9a0-b16f45bdd42b",
   "metadata": {
    "execution": {
     "iopub.execute_input": "2024-09-30T08:04:00.332148Z",
     "iopub.status.busy": "2024-09-30T08:04:00.331836Z",
     "iopub.status.idle": "2024-09-30T08:04:09.634666Z",
     "shell.execute_reply": "2024-09-30T08:04:09.633982Z",
     "shell.execute_reply.started": "2024-09-30T08:04:00.332107Z"
    },
    "tags": []
   },
   "outputs": [
    {
     "data": {
      "application/vnd.jupyter.widget-view+json": {
       "model_id": "5d5b5445fdaf45c2b1800ec08313fcc5",
       "version_major": 2,
       "version_minor": 0
      },
      "text/plain": [
       "VBox()"
      ]
     },
     "metadata": {},
     "output_type": "display_data"
    },
    {
     "data": {
      "application/vnd.jupyter.widget-view+json": {
       "model_id": "",
       "version_major": 2,
       "version_minor": 0
      },
      "text/plain": [
       "FloatProgress(value=0.0, bar_style='info', description='Progress:', layout=Layout(height='25px', width='50%'),…"
      ]
     },
     "metadata": {},
     "output_type": "display_data"
    },
    {
     "name": "stdout",
     "output_type": "stream",
     "text": [
      "+------------+----------+---------------+-----------+--------------+--------+----------------------+--------------+----------+----------+----------+--------------------+----------------+-----------------+---------------------+---------------------+-----------------+---------------------+---------------------+------------------+--------------------+--------------------+------------------+--------------------+--------------------+----------+--------------------+--------------------+-------------+--------------------+--------------------+------------+--------------------+--------------------+---------+--------------------+--------------------+----------------+--------------------+--------------------+----------+--------------+--------------+------------------+--------------------+--------------------+-------------------+--------------------+--------------------+-------------------+--------------------+--------------------+-----------------------+---------------------------+---------------------------+-------------------+------------------------------+-------------------+\n",
      "|period_begin|period_end|period_duration|region_type|region_type_id|table_id|is_seasonally_adjusted|        region|      city|     state|state_code|       property_type|property_type_id|median_sale_price|median_sale_price_mom|median_sale_price_yoy|median_list_price|median_list_price_mom|median_list_price_yoy|       median_ppsf|     median_ppsf_mom|     median_ppsf_yoy|  median_list_ppsf|median_list_ppsf_mom|median_list_ppsf_yoy|homes_sold|      homes_sold_mom|      homes_sold_yoy|pending_sales|   pending_sales_mom|   pending_sales_yoy|new_listings|    new_listings_mom|    new_listings_yoy|inventory|       inventory_mom|       inventory_yoy|months_of_supply|months_of_supply_mom|months_of_supply_yoy|median_dom|median_dom_mom|median_dom_yoy|  avg_sale_to_list|avg_sale_to_list_mom|avg_sale_to_list_yoy|    sold_above_list| sold_above_list_mom| sold_above_list_yoy|        price_drops|     price_drops_mom|     price_drops_yoy|off_market_in_two_weeks|off_market_in_two_weeks_mom|off_market_in_two_weeks_yoy|parent_metro_region|parent_metro_region_metro_code|       last_updated|\n",
      "+------------+----------+---------------+-----------+--------------+--------+----------------------+--------------+----------+----------+----------+--------------------+----------------+-----------------+---------------------+---------------------+-----------------+---------------------+---------------------+------------------+--------------------+--------------------+------------------+--------------------+--------------------+----------+--------------------+--------------------+-------------+--------------------+--------------------+------------+--------------------+--------------------+---------+--------------------+--------------------+----------------+--------------------+--------------------+----------+--------------+--------------+------------------+--------------------+--------------------+-------------------+--------------------+--------------------+-------------------+--------------------+--------------------+-----------------------+---------------------------+---------------------------+-------------------+------------------------------+-------------------+\n",
      "|  2017-09-01|2017-09-30|             30|      place|             6|   29470|                     f|   Chicago, IL|   Chicago|  Illinois|        IL|Multi-Family (2-4...|               4|         259500.0|  0.01764705882352935|  0.16629213483146077|         285000.0| 0.036363636363636376| 0.017893496196292658|107.17509025270758| 0.05326039132009952|  0.2655504661398036|207.14285714285714|0.036059638927261384|0.002861912711662251|       284|-0.23035230352303526|-0.08974358974358976|          421|-0.06026785714285...|-0.02995391705069128|         476|-0.04417670682730923|-0.00418410041840...|     1316|0.021739130434782705| -0.1471160077770577|             4.6|  1.0999999999999996| -0.3000000000000007|        42|             6|            -2|0.9771784239346342|0.001735557046985...|-5.93000794542053...| 0.2711267605633803|-0.03781632886751...|-0.00130913687251...|0.26671732522796354|-0.02132615303290...|-0.01066439868648883|     0.2850356294536817|       -0.06317865626060398|        0.04770844051358955|        Chicago, IL|                         16984|2024-09-18 14:24:31|\n",
      "|  2023-03-01|2023-03-31|             30|      place|             6|   38334|                     f| Lexington, WA| Lexington|Washington|        WA|     All Residential|              -1|         424900.0|   0.1835654596100278|  0.10363636363636353|         429900.0|                 NULL|  0.11662337662337663|210.76388888888889| -0.1511487269571533| -0.1788419913419914|251.45452182086882|                NULL| 0.08075009378596909|         3|               -0.25|                 0.0|            2|-0.33333333333333337| -0.7142857142857143|           2|                NULL| -0.7777777777777778|        4|                 0.0|                 0.0|             1.3| 0.30000000000000004|                 0.0|        44|            29|            38|0.9736661687126084|-0.03889875026950...|-0.08396498373794226| 0.3333333333333333| -0.4166666666666667| -0.3333333333333333|               0.25|                -0.5|                NULL|                    0.5|                        0.5|        -0.2142857142857143|       Longview, WA|                         31020|2024-09-18 14:24:31|\n",
      "|  2020-07-01|2020-07-31|             30|      place|             6|   37598|                     f|Parsippany, NJ|Parsippany|New Jersey|        NJ|     All Residential|              -1|         485000.0| -0.06730769230769229| -0.03518011794674...|         477500.0| -0.00520833333333337|  0.06347438752783963|236.21859539887788|-0.00424337917479...|-0.09463854708939179|242.12368728121353|-0.01299898178358816|-0.01755892648774...|        14|                0.75| -0.2222222222222222|           15| 0.36363636363636354| -0.2857142857142857|          18| -0.3793103448275862|  0.6363636363636365|       20| -0.2857142857142857|-0.31034482758620685|             1.4|                -2.1|-0.20000000000000018|        33|             3|            16|0.9827899444105672|-0.00755106133823...|-0.02497623310377...|0.35714285714285715| 0.10714285714285715|-0.19841269841269843|               0.25| 0.14285714285714285| 0.04310344827586207|                    0.0|       -0.09090909090909091|       -0.04761904761904...|         Newark, NJ|                         35084|2024-09-18 14:24:31|\n",
      "+------------+----------+---------------+-----------+--------------+--------+----------------------+--------------+----------+----------+----------+--------------------+----------------+-----------------+---------------------+---------------------+-----------------+---------------------+---------------------+------------------+--------------------+--------------------+------------------+--------------------+--------------------+----------+--------------------+--------------------+-------------+--------------------+--------------------+------------+--------------------+--------------------+---------+--------------------+--------------------+----------------+--------------------+--------------------+----------+--------------+--------------+------------------+--------------------+--------------------+-------------------+--------------------+--------------------+-------------------+--------------------+--------------------+-----------------------+---------------------------+---------------------------+-------------------+------------------------------+-------------------+\n",
      "only showing top 3 rows"
     ]
    }
   ],
   "source": [
    "redfin_data.show(3)"
   ]
  },
  {
   "cell_type": "code",
   "execution_count": 7,
   "id": "223bbb4a-dca7-4001-acc5-65ae70dcdfc4",
   "metadata": {
    "execution": {
     "iopub.execute_input": "2024-09-30T08:26:35.922602Z",
     "iopub.status.busy": "2024-09-30T08:26:35.922362Z",
     "iopub.status.idle": "2024-09-30T08:26:35.969343Z",
     "shell.execute_reply": "2024-09-30T08:26:35.968692Z",
     "shell.execute_reply.started": "2024-09-30T08:26:35.922576Z"
    }
   },
   "outputs": [
    {
     "data": {
      "application/vnd.jupyter.widget-view+json": {
       "model_id": "0e028abadb68454d9aef78ed7039cfac",
       "version_major": 2,
       "version_minor": 0
      },
      "text/plain": [
       "VBox()"
      ]
     },
     "metadata": {},
     "output_type": "display_data"
    },
    {
     "data": {
      "application/vnd.jupyter.widget-view+json": {
       "model_id": "",
       "version_major": 2,
       "version_minor": 0
      },
      "text/plain": [
       "FloatProgress(value=0.0, bar_style='info', description='Progress:', layout=Layout(height='25px', width='50%'),…"
      ]
     },
     "metadata": {},
     "output_type": "display_data"
    },
    {
     "name": "stdout",
     "output_type": "stream",
     "text": [
      "root\n",
      " |-- period_begin: date (nullable = true)\n",
      " |-- period_end: date (nullable = true)\n",
      " |-- period_duration: integer (nullable = true)\n",
      " |-- region_type: string (nullable = true)\n",
      " |-- region_type_id: integer (nullable = true)\n",
      " |-- table_id: integer (nullable = true)\n",
      " |-- is_seasonally_adjusted: string (nullable = true)\n",
      " |-- region: string (nullable = true)\n",
      " |-- city: string (nullable = true)\n",
      " |-- state: string (nullable = true)\n",
      " |-- state_code: string (nullable = true)\n",
      " |-- property_type: string (nullable = true)\n",
      " |-- property_type_id: integer (nullable = true)\n",
      " |-- median_sale_price: double (nullable = true)\n",
      " |-- median_sale_price_mom: double (nullable = true)\n",
      " |-- median_sale_price_yoy: double (nullable = true)\n",
      " |-- median_list_price: double (nullable = true)\n",
      " |-- median_list_price_mom: double (nullable = true)\n",
      " |-- median_list_price_yoy: double (nullable = true)\n",
      " |-- median_ppsf: double (nullable = true)\n",
      " |-- median_ppsf_mom: double (nullable = true)\n",
      " |-- median_ppsf_yoy: double (nullable = true)\n",
      " |-- median_list_ppsf: double (nullable = true)\n",
      " |-- median_list_ppsf_mom: double (nullable = true)\n",
      " |-- median_list_ppsf_yoy: double (nullable = true)\n",
      " |-- homes_sold: integer (nullable = true)\n",
      " |-- homes_sold_mom: double (nullable = true)\n",
      " |-- homes_sold_yoy: double (nullable = true)\n",
      " |-- pending_sales: integer (nullable = true)\n",
      " |-- pending_sales_mom: double (nullable = true)\n",
      " |-- pending_sales_yoy: double (nullable = true)\n",
      " |-- new_listings: integer (nullable = true)\n",
      " |-- new_listings_mom: double (nullable = true)\n",
      " |-- new_listings_yoy: double (nullable = true)\n",
      " |-- inventory: integer (nullable = true)\n",
      " |-- inventory_mom: double (nullable = true)\n",
      " |-- inventory_yoy: double (nullable = true)\n",
      " |-- months_of_supply: double (nullable = true)\n",
      " |-- months_of_supply_mom: double (nullable = true)\n",
      " |-- months_of_supply_yoy: double (nullable = true)\n",
      " |-- median_dom: integer (nullable = true)\n",
      " |-- median_dom_mom: integer (nullable = true)\n",
      " |-- median_dom_yoy: integer (nullable = true)\n",
      " |-- avg_sale_to_list: double (nullable = true)\n",
      " |-- avg_sale_to_list_mom: double (nullable = true)\n",
      " |-- avg_sale_to_list_yoy: double (nullable = true)\n",
      " |-- sold_above_list: double (nullable = true)\n",
      " |-- sold_above_list_mom: double (nullable = true)\n",
      " |-- sold_above_list_yoy: double (nullable = true)\n",
      " |-- price_drops: double (nullable = true)\n",
      " |-- price_drops_mom: double (nullable = true)\n",
      " |-- price_drops_yoy: double (nullable = true)\n",
      " |-- off_market_in_two_weeks: double (nullable = true)\n",
      " |-- off_market_in_two_weeks_mom: double (nullable = true)\n",
      " |-- off_market_in_two_weeks_yoy: double (nullable = true)\n",
      " |-- parent_metro_region: string (nullable = true)\n",
      " |-- parent_metro_region_metro_code: integer (nullable = true)\n",
      " |-- last_updated: timestamp (nullable = true)"
     ]
    }
   ],
   "source": [
    "#Check the schema\n",
    "redfin_data.printSchema()"
   ]
  },
  {
   "cell_type": "code",
   "execution_count": 8,
   "id": "eec86f57-a283-4bec-830b-55107df297cc",
   "metadata": {
    "execution": {
     "iopub.execute_input": "2024-09-30T08:26:56.795897Z",
     "iopub.status.busy": "2024-09-30T08:26:56.795670Z",
     "iopub.status.idle": "2024-09-30T08:26:57.050263Z",
     "shell.execute_reply": "2024-09-30T08:26:57.049649Z",
     "shell.execute_reply.started": "2024-09-30T08:26:56.795871Z"
    }
   },
   "outputs": [
    {
     "data": {
      "application/vnd.jupyter.widget-view+json": {
       "model_id": "2091f2b6afff46c2a8b2b556a8cab470",
       "version_major": 2,
       "version_minor": 0
      },
      "text/plain": [
       "VBox()"
      ]
     },
     "metadata": {},
     "output_type": "display_data"
    },
    {
     "data": {
      "application/vnd.jupyter.widget-view+json": {
       "model_id": "",
       "version_major": 2,
       "version_minor": 0
      },
      "text/plain": [
       "FloatProgress(value=0.0, bar_style='info', description='Progress:', layout=Layout(height='25px', width='50%'),…"
      ]
     },
     "metadata": {},
     "output_type": "display_data"
    },
    {
     "name": "stdout",
     "output_type": "stream",
     "text": [
      "['period_begin', 'period_end', 'period_duration', 'region_type', 'region_type_id', 'table_id', 'is_seasonally_adjusted', 'region', 'city', 'state', 'state_code', 'property_type', 'property_type_id', 'median_sale_price', 'median_sale_price_mom', 'median_sale_price_yoy', 'median_list_price', 'median_list_price_mom', 'median_list_price_yoy', 'median_ppsf', 'median_ppsf_mom', 'median_ppsf_yoy', 'median_list_ppsf', 'median_list_ppsf_mom', 'median_list_ppsf_yoy', 'homes_sold', 'homes_sold_mom', 'homes_sold_yoy', 'pending_sales', 'pending_sales_mom', 'pending_sales_yoy', 'new_listings', 'new_listings_mom', 'new_listings_yoy', 'inventory', 'inventory_mom', 'inventory_yoy', 'months_of_supply', 'months_of_supply_mom', 'months_of_supply_yoy', 'median_dom', 'median_dom_mom', 'median_dom_yoy', 'avg_sale_to_list', 'avg_sale_to_list_mom', 'avg_sale_to_list_yoy', 'sold_above_list', 'sold_above_list_mom', 'sold_above_list_yoy', 'price_drops', 'price_drops_mom', 'price_drops_yoy', 'off_market_in_two_weeks', 'off_market_in_two_weeks_mom', 'off_market_in_two_weeks_yoy', 'parent_metro_region', 'parent_metro_region_metro_code', 'last_updated']"
     ]
    }
   ],
   "source": [
    "\n",
    "#print column names\n",
    "redfin_data.columns"
   ]
  },
  {
   "cell_type": "code",
   "execution_count": 9,
   "id": "01a942f1-523d-4ca3-bf13-dbf958ee9abf",
   "metadata": {
    "execution": {
     "iopub.execute_input": "2024-09-30T08:27:16.655044Z",
     "iopub.status.busy": "2024-09-30T08:27:16.654821Z",
     "iopub.status.idle": "2024-09-30T08:27:23.955563Z",
     "shell.execute_reply": "2024-09-30T08:27:23.950370Z",
     "shell.execute_reply.started": "2024-09-30T08:27:16.655018Z"
    }
   },
   "outputs": [
    {
     "data": {
      "application/vnd.jupyter.widget-view+json": {
       "model_id": "ec557d6af2264a6dbdac4a21e0f9906a",
       "version_major": 2,
       "version_minor": 0
      },
      "text/plain": [
       "VBox()"
      ]
     },
     "metadata": {},
     "output_type": "display_data"
    },
    {
     "data": {
      "application/vnd.jupyter.widget-view+json": {
       "model_id": "",
       "version_major": 2,
       "version_minor": 0
      },
      "text/plain": [
       "FloatProgress(value=0.0, bar_style='info', description='Progress:', layout=Layout(height='25px', width='50%'),…"
      ]
     },
     "metadata": {},
     "output_type": "display_data"
    },
    {
     "name": "stdout",
     "output_type": "stream",
     "text": [
      "+----------+---------------+----------+----------+--------------------+-----------------+------------------+----------+---------+----------------+----------+-------------------+-------------------+\n",
      "|period_end|period_duration|      city|     state|       property_type|median_sale_price|       median_ppsf|homes_sold|inventory|months_of_supply|median_dom|    sold_above_list|       last_updated|\n",
      "+----------+---------------+----------+----------+--------------------+-----------------+------------------+----------+---------+----------------+----------+-------------------+-------------------+\n",
      "|2017-09-30|             30|   Chicago|  Illinois|Multi-Family (2-4...|         259500.0|107.17509025270758|       284|     1316|             4.6|        42| 0.2711267605633803|2024-09-18 14:24:31|\n",
      "|2023-03-31|             30| Lexington|Washington|     All Residential|         424900.0|210.76388888888889|         3|        4|             1.3|        44| 0.3333333333333333|2024-09-18 14:24:31|\n",
      "|2020-07-31|             30|Parsippany|New Jersey|     All Residential|         485000.0|236.21859539887788|        14|       20|             1.4|        33|0.35714285714285715|2024-09-18 14:24:31|\n",
      "+----------+---------------+----------+----------+--------------------+-----------------+------------------+----------+---------+----------------+----------+-------------------+-------------------+\n",
      "only showing top 3 rows"
     ]
    }
   ],
   "source": [
    "df_redfin = redfin_data.select(['period_end','period_duration', 'city', 'state', 'property_type',\n",
    "    'median_sale_price', 'median_ppsf', 'homes_sold', 'inventory', 'months_of_supply', 'median_dom', 'sold_above_list', 'last_updated'])\n",
    "df_redfin.show(3)"
   ]
  },
  {
   "cell_type": "code",
   "execution_count": 10,
   "id": "b04ca1ee-e718-4504-98a4-0dc04d101b86",
   "metadata": {
    "execution": {
     "iopub.execute_input": "2024-09-30T08:27:38.065547Z",
     "iopub.status.busy": "2024-09-30T08:27:38.065255Z",
     "iopub.status.idle": "2024-09-30T08:28:21.479834Z",
     "shell.execute_reply": "2024-09-30T08:28:21.479193Z",
     "shell.execute_reply.started": "2024-09-30T08:27:38.065507Z"
    }
   },
   "outputs": [
    {
     "data": {
      "application/vnd.jupyter.widget-view+json": {
       "model_id": "e6f6a1b4bb2b423b999b8e990938eebd",
       "version_major": 2,
       "version_minor": 0
      },
      "text/plain": [
       "VBox()"
      ]
     },
     "metadata": {},
     "output_type": "display_data"
    },
    {
     "data": {
      "application/vnd.jupyter.widget-view+json": {
       "model_id": "",
       "version_major": 2,
       "version_minor": 0
      },
      "text/plain": [
       "FloatProgress(value=0.0, bar_style='info', description='Progress:', layout=Layout(height='25px', width='50%'),…"
      ]
     },
     "metadata": {},
     "output_type": "display_data"
    },
    {
     "name": "stdout",
     "output_type": "stream",
     "text": [
      "Total number of rows: 5559476"
     ]
    }
   ],
   "source": [
    "#check total number of rows\n",
    "print(f\"Total number of rows: {df_redfin.count()}\")"
   ]
  },
  {
   "cell_type": "code",
   "execution_count": 11,
   "id": "c51b47db-5dbb-4bc2-be4f-a06f20f3cb15",
   "metadata": {
    "execution": {
     "iopub.execute_input": "2024-09-30T08:28:26.950566Z",
     "iopub.status.busy": "2024-09-30T08:28:26.950292Z",
     "iopub.status.idle": "2024-09-30T08:36:13.787352Z",
     "shell.execute_reply": "2024-09-30T08:36:13.786596Z",
     "shell.execute_reply.started": "2024-09-30T08:28:26.950535Z"
    },
    "tags": []
   },
   "outputs": [
    {
     "data": {
      "application/vnd.jupyter.widget-view+json": {
       "model_id": "df5b43b5e9a94dbca4e6760c4714cc53",
       "version_major": 2,
       "version_minor": 0
      },
      "text/plain": [
       "VBox()"
      ]
     },
     "metadata": {},
     "output_type": "display_data"
    },
    {
     "data": {
      "application/vnd.jupyter.widget-view+json": {
       "model_id": "",
       "version_major": 2,
       "version_minor": 0
      },
      "text/plain": [
       "FloatProgress(value=0.0, bar_style='info', description='Progress:', layout=Layout(height='25px', width='50%'),…"
      ]
     },
     "metadata": {},
     "output_type": "display_data"
    },
    {
     "name": "stdout",
     "output_type": "stream",
     "text": [
      "[0, 0, 0, 0, 0, 6220, 72722, 5798, 448381, 369270, 71498, 37611, 0]"
     ]
    }
   ],
   "source": [
    "from pyspark.sql.functions import isnull\n",
    "# Count null values in each column\n",
    "null_counts = [df_redfin.where(isnull(col_name)).count() for col_name in df_redfin.columns]\n",
    "null_counts"
   ]
  },
  {
   "cell_type": "code",
   "execution_count": 12,
   "id": "eecee5ea-cae8-44c8-a967-b0cd2243c356",
   "metadata": {
    "execution": {
     "iopub.execute_input": "2024-09-30T08:37:01.845011Z",
     "iopub.status.busy": "2024-09-30T08:37:01.844789Z",
     "iopub.status.idle": "2024-09-30T08:37:01.892928Z",
     "shell.execute_reply": "2024-09-30T08:37:01.892150Z",
     "shell.execute_reply.started": "2024-09-30T08:37:01.844986Z"
    }
   },
   "outputs": [
    {
     "data": {
      "application/vnd.jupyter.widget-view+json": {
       "model_id": "b75da08fc4674956b847cabc1c927c83",
       "version_major": 2,
       "version_minor": 0
      },
      "text/plain": [
       "VBox()"
      ]
     },
     "metadata": {},
     "output_type": "display_data"
    },
    {
     "data": {
      "application/vnd.jupyter.widget-view+json": {
       "model_id": "",
       "version_major": 2,
       "version_minor": 0
      },
      "text/plain": [
       "FloatProgress(value=0.0, bar_style='info', description='Progress:', layout=Layout(height='25px', width='50%'),…"
      ]
     },
     "metadata": {},
     "output_type": "display_data"
    },
    {
     "name": "stdout",
     "output_type": "stream",
     "text": [
      "period_end: 0 null values\n",
      "period_duration: 0 null values\n",
      "city: 0 null values\n",
      "state: 0 null values\n",
      "property_type: 0 null values\n",
      "median_sale_price: 6220 null values\n",
      "median_ppsf: 72722 null values\n",
      "homes_sold: 5798 null values\n",
      "inventory: 448381 null values\n",
      "months_of_supply: 369270 null values\n",
      "median_dom: 71498 null values\n",
      "sold_above_list: 37611 null values\n",
      "last_updated: 0 null values"
     ]
    }
   ],
   "source": [
    "# Display the results\n",
    "for i, col_name in enumerate(df_redfin.columns):\n",
    "    print(f\"{col_name}: {null_counts[i]} null values\")"
   ]
  },
  {
   "cell_type": "code",
   "execution_count": 13,
   "id": "bebfaef3-b879-4041-8799-21550b447599",
   "metadata": {
    "execution": {
     "iopub.execute_input": "2024-09-30T08:37:35.529060Z",
     "iopub.status.busy": "2024-09-30T08:37:35.528809Z",
     "iopub.status.idle": "2024-09-30T08:38:32.948537Z",
     "shell.execute_reply": "2024-09-30T08:38:32.947930Z",
     "shell.execute_reply.started": "2024-09-30T08:37:35.529032Z"
    },
    "tags": []
   },
   "outputs": [
    {
     "data": {
      "application/vnd.jupyter.widget-view+json": {
       "model_id": "2b147fa6e1fb4566969d1c5e5f002ad9",
       "version_major": 2,
       "version_minor": 0
      },
      "text/plain": [
       "VBox()"
      ]
     },
     "metadata": {},
     "output_type": "display_data"
    },
    {
     "data": {
      "application/vnd.jupyter.widget-view+json": {
       "model_id": "",
       "version_major": 2,
       "version_minor": 0
      },
      "text/plain": [
       "FloatProgress(value=0.0, bar_style='info', description='Progress:', layout=Layout(height='25px', width='50%'),…"
      ]
     },
     "metadata": {},
     "output_type": "display_data"
    }
   ],
   "source": [
    "# Check for missing values in the entire DataFrame\n",
    "remaining_count = df_redfin.na.drop().count()"
   ]
  },
  {
   "cell_type": "code",
   "execution_count": 14,
   "id": "13f4f588-f4d3-408b-b51c-67d8aca47fa6",
   "metadata": {
    "execution": {
     "iopub.execute_input": "2024-09-30T08:39:03.341194Z",
     "iopub.status.busy": "2024-09-30T08:39:03.340936Z",
     "iopub.status.idle": "2024-09-30T08:39:26.668664Z",
     "shell.execute_reply": "2024-09-30T08:39:26.668052Z",
     "shell.execute_reply.started": "2024-09-30T08:39:03.341142Z"
    }
   },
   "outputs": [
    {
     "data": {
      "application/vnd.jupyter.widget-view+json": {
       "model_id": "8ee9f970843e477ba0e9be541a196c30",
       "version_major": 2,
       "version_minor": 0
      },
      "text/plain": [
       "VBox()"
      ]
     },
     "metadata": {},
     "output_type": "display_data"
    },
    {
     "data": {
      "application/vnd.jupyter.widget-view+json": {
       "model_id": "",
       "version_major": 2,
       "version_minor": 0
      },
      "text/plain": [
       "FloatProgress(value=0.0, bar_style='info', description='Progress:', layout=Layout(height='25px', width='50%'),…"
      ]
     },
     "metadata": {},
     "output_type": "display_data"
    },
    {
     "name": "stdout",
     "output_type": "stream",
     "text": [
      "Number of missing rows: 540703"
     ]
    }
   ],
   "source": [
    "print(f\"Number of missing rows: {df_redfin.count() - remaining_count}\")"
   ]
  },
  {
   "cell_type": "code",
   "execution_count": 15,
   "id": "5f10ae3c-e31e-4869-8193-a363c37a58c0",
   "metadata": {
    "execution": {
     "iopub.execute_input": "2024-09-30T08:39:33.181115Z",
     "iopub.status.busy": "2024-09-30T08:39:33.180893Z",
     "iopub.status.idle": "2024-09-30T08:39:33.223618Z",
     "shell.execute_reply": "2024-09-30T08:39:33.223043Z",
     "shell.execute_reply.started": "2024-09-30T08:39:33.181092Z"
    }
   },
   "outputs": [
    {
     "data": {
      "application/vnd.jupyter.widget-view+json": {
       "model_id": "27a880568ef043ebbc93c3a99e95dbf8",
       "version_major": 2,
       "version_minor": 0
      },
      "text/plain": [
       "VBox()"
      ]
     },
     "metadata": {},
     "output_type": "display_data"
    },
    {
     "data": {
      "application/vnd.jupyter.widget-view+json": {
       "model_id": "",
       "version_major": 2,
       "version_minor": 0
      },
      "text/plain": [
       "FloatProgress(value=0.0, bar_style='info', description='Progress:', layout=Layout(height='25px', width='50%'),…"
      ]
     },
     "metadata": {},
     "output_type": "display_data"
    },
    {
     "name": "stdout",
     "output_type": "stream",
     "text": [
      "Total number of remaining rows: 5018773"
     ]
    }
   ],
   "source": [
    "print(f\"Total number of remaining rows: {remaining_count}\")"
   ]
  },
  {
   "cell_type": "code",
   "execution_count": 16,
   "id": "b6797604-4816-43d6-ac7f-5ea1372ad7ae",
   "metadata": {
    "execution": {
     "iopub.execute_input": "2024-09-30T08:39:50.648122Z",
     "iopub.status.busy": "2024-09-30T08:39:50.647882Z",
     "iopub.status.idle": "2024-09-30T08:40:40.052688Z",
     "shell.execute_reply": "2024-09-30T08:40:40.052060Z",
     "shell.execute_reply.started": "2024-09-30T08:39:50.648094Z"
    }
   },
   "outputs": [
    {
     "data": {
      "application/vnd.jupyter.widget-view+json": {
       "model_id": "c7eba0deee064537be59e2cd6755d10f",
       "version_major": 2,
       "version_minor": 0
      },
      "text/plain": [
       "VBox()"
      ]
     },
     "metadata": {},
     "output_type": "display_data"
    },
    {
     "data": {
      "application/vnd.jupyter.widget-view+json": {
       "model_id": "",
       "version_major": 2,
       "version_minor": 0
      },
      "text/plain": [
       "FloatProgress(value=0.0, bar_style='info', description='Progress:', layout=Layout(height='25px', width='50%'),…"
      ]
     },
     "metadata": {},
     "output_type": "display_data"
    },
    {
     "name": "stdout",
     "output_type": "stream",
     "text": [
      "Total number of rows: 5018773"
     ]
    }
   ],
   "source": [
    "#remove na and count total number of remaining rows\n",
    "df_redfin = df_redfin.na.drop()\n",
    "print(f\"Total number of rows: {df_redfin.count()}\")"
   ]
  },
  {
   "cell_type": "code",
   "execution_count": 17,
   "id": "7379611f-c767-4050-b744-bc0a2c65da39",
   "metadata": {
    "execution": {
     "iopub.execute_input": "2024-09-30T08:42:06.676357Z",
     "iopub.status.busy": "2024-09-30T08:42:06.676133Z",
     "iopub.status.idle": "2024-09-30T08:51:19.586478Z",
     "shell.execute_reply": "2024-09-30T08:51:19.585758Z",
     "shell.execute_reply.started": "2024-09-30T08:42:06.676331Z"
    },
    "tags": []
   },
   "outputs": [
    {
     "data": {
      "application/vnd.jupyter.widget-view+json": {
       "model_id": "dcc6d37379834a9b91bc9e04af21a98c",
       "version_major": 2,
       "version_minor": 0
      },
      "text/plain": [
       "VBox()"
      ]
     },
     "metadata": {},
     "output_type": "display_data"
    },
    {
     "data": {
      "application/vnd.jupyter.widget-view+json": {
       "model_id": "",
       "version_major": 2,
       "version_minor": 0
      },
      "text/plain": [
       "FloatProgress(value=0.0, bar_style='info', description='Progress:', layout=Layout(height='25px', width='50%'),…"
      ]
     },
     "metadata": {},
     "output_type": "display_data"
    },
    {
     "name": "stdout",
     "output_type": "stream",
     "text": [
      "[0, 0, 0, 0, 0, 0, 0, 0, 0, 0, 0, 0, 0]"
     ]
    }
   ],
   "source": [
    "# Count null values in each column to confirm if we have removed all na\n",
    "null_counts = [df_redfin.where(isnull(col_name)).count() for col_name in df_redfin.columns]\n",
    "null_counts\n"
   ]
  },
  {
   "cell_type": "code",
   "execution_count": 19,
   "id": "7b5143a9-4974-4736-b122-1e1d2fb4103d",
   "metadata": {
    "execution": {
     "iopub.execute_input": "2024-09-30T08:52:21.260465Z",
     "iopub.status.busy": "2024-09-30T08:52:21.260243Z",
     "iopub.status.idle": "2024-09-30T08:52:21.507244Z",
     "shell.execute_reply": "2024-09-30T08:52:21.506660Z",
     "shell.execute_reply.started": "2024-09-30T08:52:21.260439Z"
    },
    "tags": []
   },
   "outputs": [
    {
     "data": {
      "application/vnd.jupyter.widget-view+json": {
       "model_id": "0f946195f9104a798b34119bc0e42dc2",
       "version_major": 2,
       "version_minor": 0
      },
      "text/plain": [
       "VBox()"
      ]
     },
     "metadata": {},
     "output_type": "display_data"
    },
    {
     "data": {
      "application/vnd.jupyter.widget-view+json": {
       "model_id": "",
       "version_major": 2,
       "version_minor": 0
      },
      "text/plain": [
       "FloatProgress(value=0.0, bar_style='info', description='Progress:', layout=Layout(height='25px', width='50%'),…"
      ]
     },
     "metadata": {},
     "output_type": "display_data"
    }
   ],
   "source": [
    "from pyspark.sql.functions import year, month\n",
    "\n",
    "#Extract year from period_end and save in a new column \"period_end_yr\"\n",
    "df_redfin = df_redfin.withColumn(\"period_end_yr\", year(col(\"period_end\")))\n",
    "\n",
    "#Extract month from period_end and save in a new column \"period_end_month\"\n",
    "df_redfin = df_redfin.withColumn(\"period_end_month\", month(col(\"period_end\")))"
   ]
  },
  {
   "cell_type": "code",
   "execution_count": 20,
   "id": "2e7ea1ed-7cdd-4289-8258-bbe713eea405",
   "metadata": {
    "execution": {
     "iopub.execute_input": "2024-09-30T08:52:30.186915Z",
     "iopub.status.busy": "2024-09-30T08:52:30.186649Z",
     "iopub.status.idle": "2024-09-30T08:52:30.240922Z",
     "shell.execute_reply": "2024-09-30T08:52:30.240142Z",
     "shell.execute_reply.started": "2024-09-30T08:52:30.186886Z"
    }
   },
   "outputs": [
    {
     "data": {
      "application/vnd.jupyter.widget-view+json": {
       "model_id": "50d2d9af191f4ed49fb2e3d676c88f69",
       "version_major": 2,
       "version_minor": 0
      },
      "text/plain": [
       "VBox()"
      ]
     },
     "metadata": {},
     "output_type": "display_data"
    },
    {
     "data": {
      "application/vnd.jupyter.widget-view+json": {
       "model_id": "",
       "version_major": 2,
       "version_minor": 0
      },
      "text/plain": [
       "FloatProgress(value=0.0, bar_style='info', description='Progress:', layout=Layout(height='25px', width='50%'),…"
      ]
     },
     "metadata": {},
     "output_type": "display_data"
    }
   ],
   "source": [
    "# Drop period_end and last_updated columns\n",
    "df_redfin = df_redfin.drop(\"period_end\", \"last_updated\")"
   ]
  },
  {
   "cell_type": "code",
   "execution_count": 21,
   "id": "6bf307bc-7fbd-460e-8790-935b944abac4",
   "metadata": {
    "execution": {
     "iopub.execute_input": "2024-09-30T08:52:45.239850Z",
     "iopub.status.busy": "2024-09-30T08:52:45.239621Z",
     "iopub.status.idle": "2024-09-30T08:52:52.517106Z",
     "shell.execute_reply": "2024-09-30T08:52:52.516347Z",
     "shell.execute_reply.started": "2024-09-30T08:52:45.239824Z"
    }
   },
   "outputs": [
    {
     "data": {
      "application/vnd.jupyter.widget-view+json": {
       "model_id": "b5cb8a2a1d0d4f049685105c68dc5807",
       "version_major": 2,
       "version_minor": 0
      },
      "text/plain": [
       "VBox()"
      ]
     },
     "metadata": {},
     "output_type": "display_data"
    },
    {
     "data": {
      "application/vnd.jupyter.widget-view+json": {
       "model_id": "",
       "version_major": 2,
       "version_minor": 0
      },
      "text/plain": [
       "FloatProgress(value=0.0, bar_style='info', description='Progress:', layout=Layout(height='25px', width='50%'),…"
      ]
     },
     "metadata": {},
     "output_type": "display_data"
    },
    {
     "name": "stdout",
     "output_type": "stream",
     "text": [
      "+---------------+----------+----------+--------------------+-----------------+------------------+----------+---------+----------------+----------+-------------------+-------------+----------------+\n",
      "|period_duration|      city|     state|       property_type|median_sale_price|       median_ppsf|homes_sold|inventory|months_of_supply|median_dom|    sold_above_list|period_end_yr|period_end_month|\n",
      "+---------------+----------+----------+--------------------+-----------------+------------------+----------+---------+----------------+----------+-------------------+-------------+----------------+\n",
      "|             30|   Chicago|  Illinois|Multi-Family (2-4...|         259500.0|107.17509025270758|       284|     1316|             4.6|        42| 0.2711267605633803|         2017|               9|\n",
      "|             30| Lexington|Washington|     All Residential|         424900.0|210.76388888888889|         3|        4|             1.3|        44| 0.3333333333333333|         2023|               3|\n",
      "|             30|Parsippany|New Jersey|     All Residential|         485000.0|236.21859539887788|        14|       20|             1.4|        33|0.35714285714285715|         2020|               7|\n",
      "+---------------+----------+----------+--------------------+-----------------+------------------+----------+---------+----------------+----------+-------------------+-------------+----------------+\n",
      "only showing top 3 rows"
     ]
    }
   ],
   "source": [
    "df_redfin.show(3)"
   ]
  },
  {
   "cell_type": "code",
   "execution_count": 22,
   "id": "3477c370-b76e-4149-bb2f-6bd179867bac",
   "metadata": {
    "execution": {
     "iopub.execute_input": "2024-09-30T08:53:23.403156Z",
     "iopub.status.busy": "2024-09-30T08:53:23.402927Z",
     "iopub.status.idle": "2024-09-30T08:53:23.650453Z",
     "shell.execute_reply": "2024-09-30T08:53:23.649811Z",
     "shell.execute_reply.started": "2024-09-30T08:53:23.403129Z"
    }
   },
   "outputs": [
    {
     "data": {
      "application/vnd.jupyter.widget-view+json": {
       "model_id": "e82b0207438d43348efc92586eea7ca0",
       "version_major": 2,
       "version_minor": 0
      },
      "text/plain": [
       "VBox()"
      ]
     },
     "metadata": {},
     "output_type": "display_data"
    },
    {
     "data": {
      "application/vnd.jupyter.widget-view+json": {
       "model_id": "",
       "version_major": 2,
       "version_minor": 0
      },
      "text/plain": [
       "FloatProgress(value=0.0, bar_style='info', description='Progress:', layout=Layout(height='25px', width='50%'),…"
      ]
     },
     "metadata": {},
     "output_type": "display_data"
    }
   ],
   "source": [
    "from pyspark.sql.functions import when\n",
    "\n",
    "#let's map the month number to their respective month name.\n",
    "\n",
    "df_redfin = df_redfin.withColumn(\"period_end_month\", \n",
    "                   when(col(\"period_end_month\") == 1, \"January\")\n",
    "                   .when(col(\"period_end_month\") == 2, \"February\")\n",
    "                   .when(col(\"period_end_month\") == 3, \"March\")\n",
    "                   .when(col(\"period_end_month\") == 4, \"April\")\n",
    "                   .when(col(\"period_end_month\") == 5, \"May\")\n",
    "                   .when(col(\"period_end_month\") == 6, \"June\")\n",
    "                   .when(col(\"period_end_month\") == 7, \"July\")\n",
    "                   .when(col(\"period_end_month\") == 8, \"August\")\n",
    "                   .when(col(\"period_end_month\") == 9, \"September\")\n",
    "                   .when(col(\"period_end_month\") == 10, \"October\")\n",
    "                   .when(col(\"period_end_month\") == 11, \"November\")\n",
    "                   .when(col(\"period_end_month\") == 12, \"December\")\n",
    "                   .otherwise(\"Unknown\")\n",
    "                 )"
   ]
  },
  {
   "cell_type": "code",
   "execution_count": 23,
   "id": "dbbd27f0-4385-4577-8db0-70f4cdd60716",
   "metadata": {
    "execution": {
     "iopub.execute_input": "2024-09-30T08:53:40.857873Z",
     "iopub.status.busy": "2024-09-30T08:53:40.857624Z",
     "iopub.status.idle": "2024-09-30T08:53:41.612074Z",
     "shell.execute_reply": "2024-09-30T08:53:41.611396Z",
     "shell.execute_reply.started": "2024-09-30T08:53:40.857846Z"
    }
   },
   "outputs": [
    {
     "data": {
      "application/vnd.jupyter.widget-view+json": {
       "model_id": "4afe6472ef3e47829317f0333bfcb326",
       "version_major": 2,
       "version_minor": 0
      },
      "text/plain": [
       "VBox()"
      ]
     },
     "metadata": {},
     "output_type": "display_data"
    },
    {
     "data": {
      "application/vnd.jupyter.widget-view+json": {
       "model_id": "",
       "version_major": 2,
       "version_minor": 0
      },
      "text/plain": [
       "FloatProgress(value=0.0, bar_style='info', description='Progress:', layout=Layout(height='25px', width='50%'),…"
      ]
     },
     "metadata": {},
     "output_type": "display_data"
    },
    {
     "name": "stdout",
     "output_type": "stream",
     "text": [
      "+---------------+----------+----------+--------------------+-----------------+------------------+----------+---------+----------------+----------+-------------------+-------------+----------------+\n",
      "|period_duration|      city|     state|       property_type|median_sale_price|       median_ppsf|homes_sold|inventory|months_of_supply|median_dom|    sold_above_list|period_end_yr|period_end_month|\n",
      "+---------------+----------+----------+--------------------+-----------------+------------------+----------+---------+----------------+----------+-------------------+-------------+----------------+\n",
      "|             30|   Chicago|  Illinois|Multi-Family (2-4...|         259500.0|107.17509025270758|       284|     1316|             4.6|        42| 0.2711267605633803|         2017|       September|\n",
      "|             30| Lexington|Washington|     All Residential|         424900.0|210.76388888888889|         3|        4|             1.3|        44| 0.3333333333333333|         2023|           March|\n",
      "|             30|Parsippany|New Jersey|     All Residential|         485000.0|236.21859539887788|        14|       20|             1.4|        33|0.35714285714285715|         2020|            July|\n",
      "+---------------+----------+----------+--------------------+-----------------+------------------+----------+---------+----------------+----------+-------------------+-------------+----------------+\n",
      "only showing top 3 rows"
     ]
    }
   ],
   "source": [
    "df_redfin.show(3)\n"
   ]
  },
  {
   "cell_type": "code",
   "execution_count": 25,
   "id": "a3205ce3-1dce-42b6-8ef8-455fe81b917c",
   "metadata": {
    "execution": {
     "iopub.execute_input": "2024-09-30T08:54:46.878229Z",
     "iopub.status.busy": "2024-09-30T08:54:46.877983Z",
     "iopub.status.idle": "2024-09-30T08:56:00.336078Z",
     "shell.execute_reply": "2024-09-30T08:56:00.335454Z",
     "shell.execute_reply.started": "2024-09-30T08:54:46.878205Z"
    },
    "tags": []
   },
   "outputs": [
    {
     "data": {
      "application/vnd.jupyter.widget-view+json": {
       "model_id": "2a34c04288fb4b31904a0d51b13a3868",
       "version_major": 2,
       "version_minor": 0
      },
      "text/plain": [
       "VBox()"
      ]
     },
     "metadata": {},
     "output_type": "display_data"
    },
    {
     "data": {
      "application/vnd.jupyter.widget-view+json": {
       "model_id": "",
       "version_major": 2,
       "version_minor": 0
      },
      "text/plain": [
       "FloatProgress(value=0.0, bar_style='info', description='Progress:', layout=Layout(height='25px', width='50%'),…"
      ]
     },
     "metadata": {},
     "output_type": "display_data"
    }
   ],
   "source": [
    "#let us write the final dataframe into our s3 bucket as a parquet file.\n",
    "s3_bucket = \"s3://redfin-project-transformed-bucket/redfin_data.parquet\"\n",
    "df_redfin.write.mode(\"overwrite\").parquet(s3_bucket)"
   ]
  },
  {
   "cell_type": "code",
   "execution_count": null,
   "id": "686e0efe-015e-4dfd-9d9c-7bb2bd446953",
   "metadata": {},
   "outputs": [],
   "source": [
    "#end"
   ]
  }
 ],
 "metadata": {
  "kernelspec": {
   "display_name": "PySpark",
   "language": "python",
   "name": "pysparkkernel"
  },
  "language_info": {
   "codemirror_mode": {
    "name": "python",
    "version": 3
   },
   "file_extension": ".py",
   "mimetype": "text/x-python",
   "name": "pyspark",
   "pygments_lexer": "python3"
  }
 },
 "nbformat": 4,
 "nbformat_minor": 5
}
